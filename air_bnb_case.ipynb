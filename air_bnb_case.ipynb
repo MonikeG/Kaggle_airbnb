{
 "cells": [
  {
   "cell_type": "markdown",
   "metadata": {},
   "source": [
    "Load Datasets and File"
   ]
  },
  {
   "cell_type": "code",
   "execution_count": 212,
   "metadata": {},
   "outputs": [],
   "source": [
    "import pandas as pd\n",
    "import numpy as np\n",
    "import matplotlib.pyplot as mp\n",
    "import statsmodels.formula.api as smf\n",
    "import statsmodels.stats.api as sms\n"
   ]
  },
  {
   "cell_type": "code",
   "execution_count": 213,
   "metadata": {},
   "outputs": [
    {
     "data": {
      "text/html": [
       "<div>\n",
       "<style scoped>\n",
       "    .dataframe tbody tr th:only-of-type {\n",
       "        vertical-align: middle;\n",
       "    }\n",
       "\n",
       "    .dataframe tbody tr th {\n",
       "        vertical-align: top;\n",
       "    }\n",
       "\n",
       "    .dataframe thead th {\n",
       "        text-align: right;\n",
       "    }\n",
       "</style>\n",
       "<table border=\"1\" class=\"dataframe\">\n",
       "  <thead>\n",
       "    <tr style=\"text-align: right;\">\n",
       "      <th></th>\n",
       "      <th>id</th>\n",
       "      <th>host id</th>\n",
       "      <th>host_identity_verified</th>\n",
       "      <th>neighbourhood group</th>\n",
       "      <th>neighbourhood</th>\n",
       "      <th>instant_bookable</th>\n",
       "      <th>cancellation_policy</th>\n",
       "      <th>room type</th>\n",
       "      <th>Construction year</th>\n",
       "      <th>price</th>\n",
       "      <th>service fee</th>\n",
       "      <th>minimum nights</th>\n",
       "      <th>number of reviews</th>\n",
       "      <th>review rate number</th>\n",
       "      <th>availability 365</th>\n",
       "      <th>house_rules</th>\n",
       "    </tr>\n",
       "  </thead>\n",
       "  <tbody>\n",
       "    <tr>\n",
       "      <th>0</th>\n",
       "      <td>1001254</td>\n",
       "      <td>80014485718</td>\n",
       "      <td>unconfirmed</td>\n",
       "      <td>Brooklyn</td>\n",
       "      <td>Kensington</td>\n",
       "      <td>False</td>\n",
       "      <td>strict</td>\n",
       "      <td>Private room</td>\n",
       "      <td>2020.0</td>\n",
       "      <td>$966</td>\n",
       "      <td>$193</td>\n",
       "      <td>10.0</td>\n",
       "      <td>9.0</td>\n",
       "      <td>4.0</td>\n",
       "      <td>286.0</td>\n",
       "      <td>Clean up and treat the home the way you'd like...</td>\n",
       "    </tr>\n",
       "    <tr>\n",
       "      <th>1</th>\n",
       "      <td>1002102</td>\n",
       "      <td>52335172823</td>\n",
       "      <td>verified</td>\n",
       "      <td>Manhattan</td>\n",
       "      <td>Midtown</td>\n",
       "      <td>False</td>\n",
       "      <td>moderate</td>\n",
       "      <td>Entire home/apt</td>\n",
       "      <td>2007.0</td>\n",
       "      <td>$142</td>\n",
       "      <td>$28</td>\n",
       "      <td>30.0</td>\n",
       "      <td>45.0</td>\n",
       "      <td>4.0</td>\n",
       "      <td>228.0</td>\n",
       "      <td>Pet friendly but please confirm with me if the...</td>\n",
       "    </tr>\n",
       "    <tr>\n",
       "      <th>2</th>\n",
       "      <td>1002403</td>\n",
       "      <td>78829239556</td>\n",
       "      <td>NaN</td>\n",
       "      <td>Manhattan</td>\n",
       "      <td>Harlem</td>\n",
       "      <td>True</td>\n",
       "      <td>flexible</td>\n",
       "      <td>Private room</td>\n",
       "      <td>2005.0</td>\n",
       "      <td>$620</td>\n",
       "      <td>$124</td>\n",
       "      <td>3.0</td>\n",
       "      <td>0.0</td>\n",
       "      <td>5.0</td>\n",
       "      <td>352.0</td>\n",
       "      <td>I encourage you to use my kitchen, cooking and...</td>\n",
       "    </tr>\n",
       "  </tbody>\n",
       "</table>\n",
       "</div>"
      ],
      "text/plain": [
       "        id      host id host_identity_verified neighbourhood group  \\\n",
       "0  1001254  80014485718            unconfirmed            Brooklyn   \n",
       "1  1002102  52335172823               verified           Manhattan   \n",
       "2  1002403  78829239556                    NaN           Manhattan   \n",
       "\n",
       "  neighbourhood instant_bookable cancellation_policy        room type  \\\n",
       "0    Kensington            False              strict     Private room   \n",
       "1       Midtown            False            moderate  Entire home/apt   \n",
       "2        Harlem             True            flexible     Private room   \n",
       "\n",
       "   Construction year  price service fee  minimum nights  number of reviews  \\\n",
       "0             2020.0  $966        $193             10.0                9.0   \n",
       "1             2007.0  $142         $28             30.0               45.0   \n",
       "2             2005.0  $620        $124              3.0                0.0   \n",
       "\n",
       "   review rate number  availability 365  \\\n",
       "0                 4.0             286.0   \n",
       "1                 4.0             228.0   \n",
       "2                 5.0             352.0   \n",
       "\n",
       "                                         house_rules  \n",
       "0  Clean up and treat the home the way you'd like...  \n",
       "1  Pet friendly but please confirm with me if the...  \n",
       "2  I encourage you to use my kitchen, cooking and...  "
      ]
     },
     "execution_count": 213,
     "metadata": {},
     "output_type": "execute_result"
    }
   ],
   "source": [
    "columns = ['id', 'host id', 'host_identity_verified', 'neighbourhood group', 'neighbourhood', 'instant_bookable', 'cancellation_policy', 'room type', 'Construction year', 'price' , 'service fee', 'minimum nights', 'number of reviews', 'review rate number', 'availability 365', 'house_rules' ]\n",
    "file = pd.read_csv('Airbnb_Open_Data.csv', sep = ',', usecols = columns)\n",
    "file.head(3)\n",
    "\n"
   ]
  },
  {
   "cell_type": "markdown",
   "metadata": {},
   "source": [
    "Verifing Dataset Main Infos"
   ]
  },
  {
   "cell_type": "code",
   "execution_count": 214,
   "metadata": {},
   "outputs": [
    {
     "name": "stdout",
     "output_type": "stream",
     "text": [
      "<class 'pandas.core.frame.DataFrame'>\n",
      "RangeIndex: 102599 entries, 0 to 102598\n",
      "Data columns (total 16 columns):\n",
      " #   Column                  Non-Null Count   Dtype  \n",
      "---  ------                  --------------   -----  \n",
      " 0   id                      102599 non-null  int64  \n",
      " 1   host id                 102599 non-null  int64  \n",
      " 2   host_identity_verified  102310 non-null  object \n",
      " 3   neighbourhood group     102570 non-null  object \n",
      " 4   neighbourhood           102583 non-null  object \n",
      " 5   instant_bookable        102494 non-null  object \n",
      " 6   cancellation_policy     102523 non-null  object \n",
      " 7   room type               102599 non-null  object \n",
      " 8   Construction year       102385 non-null  float64\n",
      " 9   price                   102352 non-null  object \n",
      " 10  service fee             102326 non-null  object \n",
      " 11  minimum nights          102190 non-null  float64\n",
      " 12  number of reviews       102416 non-null  float64\n",
      " 13  review rate number      102273 non-null  float64\n",
      " 14  availability 365        102151 non-null  float64\n",
      " 15  house_rules             50468 non-null   object \n",
      "dtypes: float64(5), int64(2), object(9)\n",
      "memory usage: 12.5+ MB\n"
     ]
    }
   ],
   "source": [
    "\n",
    "file.info()"
   ]
  },
  {
   "cell_type": "code",
   "execution_count": 215,
   "metadata": {},
   "outputs": [
    {
     "data": {
      "text/plain": [
       "Index(['id', 'host id', 'host_identity_verified', 'neighbourhood group',\n",
       "       'neighbourhood', 'instant_bookable', 'cancellation_policy', 'room type',\n",
       "       'Construction year', 'price', 'service fee', 'minimum nights',\n",
       "       'number of reviews', 'review rate number', 'availability 365',\n",
       "       'house_rules'],\n",
       "      dtype='object')"
      ]
     },
     "execution_count": 215,
     "metadata": {},
     "output_type": "execute_result"
    }
   ],
   "source": [
    "file.columns"
   ]
  },
  {
   "cell_type": "code",
   "execution_count": 216,
   "metadata": {},
   "outputs": [
    {
     "data": {
      "text/plain": [
       "(102599, 16)"
      ]
     },
     "execution_count": 216,
     "metadata": {},
     "output_type": "execute_result"
    }
   ],
   "source": [
    "file.shape"
   ]
  },
  {
   "cell_type": "code",
   "execution_count": 217,
   "metadata": {},
   "outputs": [],
   "source": [
    "# Remove NaNs and adjusting column index\n",
    "file.dropna(inplace = True)\n",
    "file.columns = [col.lower().replace(\" \",\"_\") for col in file.columns]\n"
   ]
  },
  {
   "cell_type": "code",
   "execution_count": 218,
   "metadata": {},
   "outputs": [
    {
     "data": {
      "text/plain": [
       "id                        0\n",
       "host_id                   0\n",
       "host_identity_verified    0\n",
       "neighbourhood_group       0\n",
       "neighbourhood             0\n",
       "instant_bookable          0\n",
       "cancellation_policy       0\n",
       "room_type                 0\n",
       "construction_year         0\n",
       "price                     0\n",
       "service_fee               0\n",
       "minimum_nights            0\n",
       "number_of_reviews         0\n",
       "review_rate_number        0\n",
       "availability_365          0\n",
       "house_rules               0\n",
       "dtype: int64"
      ]
     },
     "execution_count": 218,
     "metadata": {},
     "output_type": "execute_result"
    }
   ],
   "source": [
    "file.isnull().sum()"
   ]
  },
  {
   "cell_type": "code",
   "execution_count": 219,
   "metadata": {},
   "outputs": [
    {
     "data": {
      "text/html": [
       "<div>\n",
       "<style scoped>\n",
       "    .dataframe tbody tr th:only-of-type {\n",
       "        vertical-align: middle;\n",
       "    }\n",
       "\n",
       "    .dataframe tbody tr th {\n",
       "        vertical-align: top;\n",
       "    }\n",
       "\n",
       "    .dataframe thead th {\n",
       "        text-align: right;\n",
       "    }\n",
       "</style>\n",
       "<table border=\"1\" class=\"dataframe\">\n",
       "  <thead>\n",
       "    <tr style=\"text-align: right;\">\n",
       "      <th></th>\n",
       "      <th>columns</th>\n",
       "      <th>%</th>\n",
       "    </tr>\n",
       "  </thead>\n",
       "  <tbody>\n",
       "    <tr>\n",
       "      <th>0</th>\n",
       "      <td>id</td>\n",
       "      <td>0.0</td>\n",
       "    </tr>\n",
       "    <tr>\n",
       "      <th>1</th>\n",
       "      <td>host_id</td>\n",
       "      <td>0.0</td>\n",
       "    </tr>\n",
       "    <tr>\n",
       "      <th>2</th>\n",
       "      <td>host_identity_verified</td>\n",
       "      <td>0.0</td>\n",
       "    </tr>\n",
       "    <tr>\n",
       "      <th>3</th>\n",
       "      <td>neighbourhood_group</td>\n",
       "      <td>0.0</td>\n",
       "    </tr>\n",
       "    <tr>\n",
       "      <th>4</th>\n",
       "      <td>neighbourhood</td>\n",
       "      <td>0.0</td>\n",
       "    </tr>\n",
       "    <tr>\n",
       "      <th>5</th>\n",
       "      <td>instant_bookable</td>\n",
       "      <td>0.0</td>\n",
       "    </tr>\n",
       "    <tr>\n",
       "      <th>6</th>\n",
       "      <td>cancellation_policy</td>\n",
       "      <td>0.0</td>\n",
       "    </tr>\n",
       "    <tr>\n",
       "      <th>7</th>\n",
       "      <td>room_type</td>\n",
       "      <td>0.0</td>\n",
       "    </tr>\n",
       "    <tr>\n",
       "      <th>8</th>\n",
       "      <td>construction_year</td>\n",
       "      <td>0.0</td>\n",
       "    </tr>\n",
       "    <tr>\n",
       "      <th>9</th>\n",
       "      <td>price</td>\n",
       "      <td>0.0</td>\n",
       "    </tr>\n",
       "    <tr>\n",
       "      <th>10</th>\n",
       "      <td>service_fee</td>\n",
       "      <td>0.0</td>\n",
       "    </tr>\n",
       "    <tr>\n",
       "      <th>11</th>\n",
       "      <td>minimum_nights</td>\n",
       "      <td>0.0</td>\n",
       "    </tr>\n",
       "    <tr>\n",
       "      <th>12</th>\n",
       "      <td>number_of_reviews</td>\n",
       "      <td>0.0</td>\n",
       "    </tr>\n",
       "    <tr>\n",
       "      <th>13</th>\n",
       "      <td>review_rate_number</td>\n",
       "      <td>0.0</td>\n",
       "    </tr>\n",
       "    <tr>\n",
       "      <th>14</th>\n",
       "      <td>availability_365</td>\n",
       "      <td>0.0</td>\n",
       "    </tr>\n",
       "    <tr>\n",
       "      <th>15</th>\n",
       "      <td>house_rules</td>\n",
       "      <td>0.0</td>\n",
       "    </tr>\n",
       "  </tbody>\n",
       "</table>\n",
       "</div>"
      ],
      "text/plain": [
       "                   columns    %\n",
       "0                       id  0.0\n",
       "1                  host_id  0.0\n",
       "2   host_identity_verified  0.0\n",
       "3      neighbourhood_group  0.0\n",
       "4            neighbourhood  0.0\n",
       "5         instant_bookable  0.0\n",
       "6      cancellation_policy  0.0\n",
       "7                room_type  0.0\n",
       "8        construction_year  0.0\n",
       "9                    price  0.0\n",
       "10             service_fee  0.0\n",
       "11          minimum_nights  0.0\n",
       "12       number_of_reviews  0.0\n",
       "13      review_rate_number  0.0\n",
       "14        availability_365  0.0\n",
       "15             house_rules  0.0"
      ]
     },
     "execution_count": 219,
     "metadata": {},
     "output_type": "execute_result"
    }
   ],
   "source": [
    "# calculate the % missing values\n",
    "percentage_result = file.isnull().sum()/file.shape[0] * 100\n",
    "\n",
    "# create a DataFrame to show case the result\n",
    "percentage_result = pd.DataFrame({\"columns\": percentage_result.keys(), \"%\": percentage_result})\n",
    "percentage_result.reset_index(drop=True, inplace=True)\n",
    "percentage_result"
   ]
  },
  {
   "cell_type": "code",
   "execution_count": 220,
   "metadata": {},
   "outputs": [
    {
     "data": {
      "text/html": [
       "<div>\n",
       "<style scoped>\n",
       "    .dataframe tbody tr th:only-of-type {\n",
       "        vertical-align: middle;\n",
       "    }\n",
       "\n",
       "    .dataframe tbody tr th {\n",
       "        vertical-align: top;\n",
       "    }\n",
       "\n",
       "    .dataframe thead th {\n",
       "        text-align: right;\n",
       "    }\n",
       "</style>\n",
       "<table border=\"1\" class=\"dataframe\">\n",
       "  <thead>\n",
       "    <tr style=\"text-align: right;\">\n",
       "      <th></th>\n",
       "      <th>id</th>\n",
       "      <th>host_id</th>\n",
       "      <th>construction_year</th>\n",
       "      <th>minimum_nights</th>\n",
       "      <th>number_of_reviews</th>\n",
       "      <th>review_rate_number</th>\n",
       "      <th>availability_365</th>\n",
       "    </tr>\n",
       "  </thead>\n",
       "  <tbody>\n",
       "    <tr>\n",
       "      <th>count</th>\n",
       "      <td>4.935100e+04</td>\n",
       "      <td>4.935100e+04</td>\n",
       "      <td>49351.000000</td>\n",
       "      <td>49351.000000</td>\n",
       "      <td>49351.000000</td>\n",
       "      <td>49351.000000</td>\n",
       "      <td>49351.000000</td>\n",
       "    </tr>\n",
       "    <tr>\n",
       "      <th>mean</th>\n",
       "      <td>2.709275e+07</td>\n",
       "      <td>4.921793e+10</td>\n",
       "      <td>2012.505704</td>\n",
       "      <td>6.976231</td>\n",
       "      <td>23.435047</td>\n",
       "      <td>3.227412</td>\n",
       "      <td>135.544204</td>\n",
       "    </tr>\n",
       "    <tr>\n",
       "      <th>std</th>\n",
       "      <td>1.823521e+07</td>\n",
       "      <td>2.849242e+10</td>\n",
       "      <td>5.747289</td>\n",
       "      <td>34.697630</td>\n",
       "      <td>41.448922</td>\n",
       "      <td>1.316398</td>\n",
       "      <td>134.831237</td>\n",
       "    </tr>\n",
       "    <tr>\n",
       "      <th>min</th>\n",
       "      <td>1.001254e+06</td>\n",
       "      <td>1.236005e+08</td>\n",
       "      <td>2003.000000</td>\n",
       "      <td>-1223.000000</td>\n",
       "      <td>0.000000</td>\n",
       "      <td>1.000000</td>\n",
       "      <td>-10.000000</td>\n",
       "    </tr>\n",
       "    <tr>\n",
       "      <th>25%</th>\n",
       "      <td>1.151464e+07</td>\n",
       "      <td>2.464954e+10</td>\n",
       "      <td>2008.000000</td>\n",
       "      <td>1.000000</td>\n",
       "      <td>1.000000</td>\n",
       "      <td>2.000000</td>\n",
       "      <td>0.000000</td>\n",
       "    </tr>\n",
       "    <tr>\n",
       "      <th>50%</th>\n",
       "      <td>2.174572e+07</td>\n",
       "      <td>4.905773e+10</td>\n",
       "      <td>2012.000000</td>\n",
       "      <td>2.000000</td>\n",
       "      <td>6.000000</td>\n",
       "      <td>3.000000</td>\n",
       "      <td>89.000000</td>\n",
       "    </tr>\n",
       "    <tr>\n",
       "      <th>75%</th>\n",
       "      <td>4.704024e+07</td>\n",
       "      <td>7.387559e+10</td>\n",
       "      <td>2018.000000</td>\n",
       "      <td>5.000000</td>\n",
       "      <td>26.000000</td>\n",
       "      <td>4.000000</td>\n",
       "      <td>256.000000</td>\n",
       "    </tr>\n",
       "    <tr>\n",
       "      <th>max</th>\n",
       "      <td>5.735968e+07</td>\n",
       "      <td>9.876097e+10</td>\n",
       "      <td>2022.000000</td>\n",
       "      <td>5645.000000</td>\n",
       "      <td>629.000000</td>\n",
       "      <td>5.000000</td>\n",
       "      <td>426.000000</td>\n",
       "    </tr>\n",
       "  </tbody>\n",
       "</table>\n",
       "</div>"
      ],
      "text/plain": [
       "                 id       host_id  construction_year  minimum_nights  \\\n",
       "count  4.935100e+04  4.935100e+04       49351.000000    49351.000000   \n",
       "mean   2.709275e+07  4.921793e+10        2012.505704        6.976231   \n",
       "std    1.823521e+07  2.849242e+10           5.747289       34.697630   \n",
       "min    1.001254e+06  1.236005e+08        2003.000000    -1223.000000   \n",
       "25%    1.151464e+07  2.464954e+10        2008.000000        1.000000   \n",
       "50%    2.174572e+07  4.905773e+10        2012.000000        2.000000   \n",
       "75%    4.704024e+07  7.387559e+10        2018.000000        5.000000   \n",
       "max    5.735968e+07  9.876097e+10        2022.000000     5645.000000   \n",
       "\n",
       "       number_of_reviews  review_rate_number  availability_365  \n",
       "count       49351.000000        49351.000000      49351.000000  \n",
       "mean           23.435047            3.227412        135.544204  \n",
       "std            41.448922            1.316398        134.831237  \n",
       "min             0.000000            1.000000        -10.000000  \n",
       "25%             1.000000            2.000000          0.000000  \n",
       "50%             6.000000            3.000000         89.000000  \n",
       "75%            26.000000            4.000000        256.000000  \n",
       "max           629.000000            5.000000        426.000000  "
      ]
     },
     "execution_count": 220,
     "metadata": {},
     "output_type": "execute_result"
    }
   ],
   "source": [
    "file.describe()"
   ]
  },
  {
   "cell_type": "markdown",
   "metadata": {},
   "source": [
    "Adjusting unformated datas"
   ]
  },
  {
   "cell_type": "code",
   "execution_count": 221,
   "metadata": {},
   "outputs": [
    {
     "name": "stdout",
     "output_type": "stream",
     "text": [
      "<class 'pandas.core.frame.DataFrame'>\n",
      "Int64Index: 49351 entries, 0 to 102595\n",
      "Data columns (total 16 columns):\n",
      " #   Column                  Non-Null Count  Dtype  \n",
      "---  ------                  --------------  -----  \n",
      " 0   id                      49351 non-null  int64  \n",
      " 1   host_id                 49351 non-null  int64  \n",
      " 2   host_identity_verified  49351 non-null  object \n",
      " 3   neighbourhood_group     49351 non-null  object \n",
      " 4   neighbourhood           49351 non-null  object \n",
      " 5   instant_bookable        49351 non-null  object \n",
      " 6   cancellation_policy     49351 non-null  object \n",
      " 7   room_type               49351 non-null  object \n",
      " 8   construction_year       49351 non-null  float64\n",
      " 9   price                   49351 non-null  object \n",
      " 10  service_fee             49351 non-null  object \n",
      " 11  minimum_nights          49351 non-null  float64\n",
      " 12  number_of_reviews       49351 non-null  float64\n",
      " 13  review_rate_number      49351 non-null  float64\n",
      " 14  availability_365        49351 non-null  float64\n",
      " 15  house_rules             49351 non-null  object \n",
      "dtypes: float64(5), int64(2), object(9)\n",
      "memory usage: 6.4+ MB\n"
     ]
    }
   ],
   "source": [
    "# for columns price and service_fee remove $ and convert data type\n",
    "file = file.replace('\\$','',regex=True)\n",
    "file.info()"
   ]
  },
  {
   "cell_type": "code",
   "execution_count": 222,
   "metadata": {},
   "outputs": [],
   "source": [
    "file['price'] = file['price'].astype(str).str.replace(\",\" , \"\").astype(float)"
   ]
  },
  {
   "cell_type": "code",
   "execution_count": 223,
   "metadata": {},
   "outputs": [],
   "source": [
    "file['service_fee'] = file.service_fee.astype('float')"
   ]
  },
  {
   "cell_type": "code",
   "execution_count": 224,
   "metadata": {},
   "outputs": [
    {
     "name": "stdout",
     "output_type": "stream",
     "text": [
      "<class 'pandas.core.frame.DataFrame'>\n",
      "Int64Index: 49351 entries, 0 to 102595\n",
      "Data columns (total 16 columns):\n",
      " #   Column                  Non-Null Count  Dtype  \n",
      "---  ------                  --------------  -----  \n",
      " 0   id                      49351 non-null  int64  \n",
      " 1   host_id                 49351 non-null  int64  \n",
      " 2   host_identity_verified  49351 non-null  object \n",
      " 3   neighbourhood_group     49351 non-null  object \n",
      " 4   neighbourhood           49351 non-null  object \n",
      " 5   instant_bookable        49351 non-null  object \n",
      " 6   cancellation_policy     49351 non-null  object \n",
      " 7   room_type               49351 non-null  object \n",
      " 8   construction_year       49351 non-null  float64\n",
      " 9   price                   49351 non-null  float64\n",
      " 10  service_fee             49351 non-null  float64\n",
      " 11  minimum_nights          49351 non-null  float64\n",
      " 12  number_of_reviews       49351 non-null  float64\n",
      " 13  review_rate_number      49351 non-null  float64\n",
      " 14  availability_365        49351 non-null  float64\n",
      " 15  house_rules             49351 non-null  object \n",
      "dtypes: float64(7), int64(2), object(7)\n",
      "memory usage: 6.4+ MB\n"
     ]
    }
   ],
   "source": [
    "file.info()"
   ]
  },
  {
   "cell_type": "code",
   "execution_count": 225,
   "metadata": {},
   "outputs": [],
   "source": [
    "#Most of collumns have less then 1% os missing values, so I decided to keep these datas and for the column house_rules I decided not to use as information for now.\n",
    "file.drop(columns = [\"house_rules\"], inplace = True)"
   ]
  },
  {
   "cell_type": "markdown",
   "metadata": {},
   "source": [
    "Linear Regression"
   ]
  },
  {
   "cell_type": "markdown",
   "metadata": {},
   "source": [
    "       For the first analysis I decided to do is the relationship of the price and year of contruction. As the types of rooms interfere on price, I did a analysis for each type of room"
   ]
  },
  {
   "cell_type": "code",
   "execution_count": 226,
   "metadata": {},
   "outputs": [
    {
     "data": {
      "text/plain": [
       "Entire home/apt    25081\n",
       "Private room       23163\n",
       "Shared room         1107\n",
       "Name: room_type, dtype: int64"
      ]
     },
     "execution_count": 226,
     "metadata": {},
     "output_type": "execute_result"
    }
   ],
   "source": [
    "file[\"room_type\"].value_counts()"
   ]
  },
  {
   "cell_type": "code",
   "execution_count": 254,
   "metadata": {},
   "outputs": [
    {
     "data": {
      "text/plain": [
       "(23163, 2)"
      ]
     },
     "execution_count": 254,
     "metadata": {},
     "output_type": "execute_result"
    }
   ],
   "source": [
    "#First for entire home/apt\n",
    "linear_reg = file.loc[file.room_type == 'Private room']\n",
    "\n",
    "data_lin_reg = linear_reg[['price', 'service_fee']]\n",
    "\n",
    "data_lin_reg.shape"
   ]
  },
  {
   "cell_type": "code",
   "execution_count": 255,
   "metadata": {},
   "outputs": [
    {
     "data": {
      "text/plain": [
       "count    23163.000000\n",
       "mean       622.530458\n",
       "std        330.758579\n",
       "min         50.000000\n",
       "25%        339.000000\n",
       "50%        619.000000\n",
       "75%        907.000000\n",
       "max       1200.000000\n",
       "Name: price, dtype: float64"
      ]
     },
     "execution_count": 255,
     "metadata": {},
     "output_type": "execute_result"
    },
    {
     "data": {
      "image/png": "[encoded data removed]",
      "text/plain": [
       "<Figure size 432x288 with 1 Axes>"
      ]
     },
     "metadata": {
      "needs_background": "light"
     },
     "output_type": "display_data"
    }
   ],
   "source": [
    "linear_reg['price'].hist()\n",
    "linear_reg['price'].describe()"
   ]
  },
  {
   "cell_type": "code",
   "execution_count": 256,
   "metadata": {},
   "outputs": [
    {
     "data": {
      "text/plain": [
       "count    23163.000000\n",
       "mean       124.506541\n",
       "std         66.151731\n",
       "min         10.000000\n",
       "25%         68.000000\n",
       "50%        124.000000\n",
       "75%        181.000000\n",
       "max        240.000000\n",
       "Name: service_fee, dtype: float64"
      ]
     },
     "execution_count": 256,
     "metadata": {},
     "output_type": "execute_result"
    },
    {
     "data": {
      "image/png": "[encoded data removed]",
      "text/plain": [
       "<Figure size 432x288 with 1 Axes>"
      ]
     },
     "metadata": {
      "needs_background": "light"
     },
     "output_type": "display_data"
    }
   ],
   "source": [
    "linear_reg['service_fee'].hist()\n",
    "linear_reg['service_fee'].describe()"
   ]
  },
  {
   "cell_type": "markdown",
   "metadata": {},
   "source": [
    "        Looking at the histograms it's possible to see the histograms have an homogeneous profile"
   ]
  },
  {
   "cell_type": "code",
   "execution_count": 257,
   "metadata": {},
   "outputs": [
    {
     "data": {
      "text/plain": [
       "<module 'matplotlib.pyplot' from 'c:\\\\Users\\\\Monike\\\\AppData\\\\Local\\\\Programs\\\\Python\\\\Python310\\\\lib\\\\site-packages\\\\matplotlib\\\\pyplot.py'>"
      ]
     },
     "execution_count": 257,
     "metadata": {},
     "output_type": "execute_result"
    },
    {
     "data": {
      "image/png": "[encoded data removed]",
      "text/plain": [
       "<Figure size 432x288 with 1 Axes>"
      ]
     },
     "metadata": {
      "needs_background": "light"
     },
     "output_type": "display_data"
    }
   ],
   "source": [
    "import matplotlib.pyplot as plt\n",
    "plt.scatter(linear_reg['service_fee'], linear_reg['price'])\n",
    "plt"
   ]
  },
  {
   "cell_type": "code",
   "execution_count": 258,
   "metadata": {},
   "outputs": [
    {
     "data": {
      "text/html": [
       "<div>\n",
       "<style scoped>\n",
       "    .dataframe tbody tr th:only-of-type {\n",
       "        vertical-align: middle;\n",
       "    }\n",
       "\n",
       "    .dataframe tbody tr th {\n",
       "        vertical-align: top;\n",
       "    }\n",
       "\n",
       "    .dataframe thead th {\n",
       "        text-align: right;\n",
       "    }\n",
       "</style>\n",
       "<table border=\"1\" class=\"dataframe\">\n",
       "  <thead>\n",
       "    <tr style=\"text-align: right;\">\n",
       "      <th></th>\n",
       "      <th>price</th>\n",
       "      <th>service_fee</th>\n",
       "    </tr>\n",
       "  </thead>\n",
       "  <tbody>\n",
       "    <tr>\n",
       "      <th>price</th>\n",
       "      <td>1.000000</td>\n",
       "      <td>0.999991</td>\n",
       "    </tr>\n",
       "    <tr>\n",
       "      <th>service_fee</th>\n",
       "      <td>0.999991</td>\n",
       "      <td>1.000000</td>\n",
       "    </tr>\n",
       "  </tbody>\n",
       "</table>\n",
       "</div>"
      ],
      "text/plain": [
       "                price  service_fee\n",
       "price        1.000000     0.999991\n",
       "service_fee  0.999991     1.000000"
      ]
     },
     "execution_count": 258,
     "metadata": {},
     "output_type": "execute_result"
    }
   ],
   "source": [
    "data_lin_reg.corr()"
   ]
  },
  {
   "cell_type": "code",
   "execution_count": 259,
   "metadata": {},
   "outputs": [],
   "source": [
    "import statsmodels.api as sm"
   ]
  },
  {
   "cell_type": "code",
   "execution_count": 261,
   "metadata": {},
   "outputs": [
    {
     "name": "stdout",
     "output_type": "stream",
     "text": [
      "                                 OLS Regression Results                                \n",
      "=======================================================================================\n",
      "Dep. Variable:            service_fee   R-squared (uncentered):                   1.000\n",
      "Model:                            OLS   Adj. R-squared (uncentered):              1.000\n",
      "Method:                 Least Squares   F-statistic:                          5.737e+09\n",
      "Date:                Fri, 16 Sep 2022   Prob (F-statistic):                        0.00\n",
      "Time:                        20:31:30   Log-Likelihood:                         -3652.1\n",
      "No. Observations:               23163   AIC:                                      7306.\n",
      "Df Residuals:                   23162   BIC:                                      7314.\n",
      "Df Model:                           1                                                  \n",
      "Covariance Type:            nonrobust                                                  \n",
      "==============================================================================\n",
      "                 coef    std err          t      P>|t|      [0.025      0.975]\n",
      "------------------------------------------------------------------------------\n",
      "price          0.2000   2.64e-06   7.57e+04      0.000       0.200       0.200\n",
      "==============================================================================\n",
      "Omnibus:                    86545.233   Durbin-Watson:                   2.009\n",
      "Prob(Omnibus):                  0.000   Jarque-Bera (JB):             1630.358\n",
      "Skew:                          -0.003   Prob(JB):                         0.00\n",
      "Kurtosis:                       1.700   Cond. No.                         1.00\n",
      "==============================================================================\n",
      "\n",
      "Notes:\n",
      "[1] R² is computed without centering (uncentered) since the model does not contain a constant.\n",
      "[2] Standard Errors assume that the covariance matrix of the errors is correctly specified.\n"
     ]
    }
   ],
   "source": [
    "modelo = sm.OLS(linear_reg['service_fee'], linear_reg['price']).fit()\n",
    "print(modelo.summary())"
   ]
  },
  {
   "cell_type": "markdown",
   "metadata": {},
   "source": [
    "        service_fee and price are high correlated, this is expected since fees charged by Airbnb are a percentage of the price."
   ]
  },
  {
   "cell_type": "code",
   "execution_count": null,
   "metadata": {},
   "outputs": [],
   "source": []
  },
  {
   "cell_type": "code",
   "execution_count": null,
   "metadata": {},
   "outputs": [],
   "source": []
  }
 ],
 "metadata": {
  "kernelspec": {
   "display_name": "Python 3.10.2 64-bit",
   "language": "python",
   "name": "python3"
  },
  "language_info": {
   "codemirror_mode": {
    "name": "ipython",
    "version": 3
   },
   "file_extension": ".py",
   "mimetype": "text/x-python",
   "name": "python",
   "nbconvert_exporter": "python",
   "pygments_lexer": "ipython3",
   "version": "3.10.2"
  },
  "orig_nbformat": 4,
  "vscode": {
   "interpreter": {
    "hash": "0d881ba02821cf0730b463623aa76821303d047d4c2d5a297c13f7c12be24c2e"
   }
  }
 },
 "nbformat": 4,
 "nbformat_minor": 2
}
